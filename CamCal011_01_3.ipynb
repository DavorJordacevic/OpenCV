{
 "cells": [
  {
   "cell_type": "code",
   "execution_count": null,
   "metadata": {},
   "outputs": [],
   "source": [
    "import cv2\n",
    "import numpy as np\n",
    "import matplotlib.pyplot as plt"
   ]
  },
  {
   "cell_type": "code",
   "execution_count": null,
   "metadata": {},
   "outputs": [],
   "source": [
    "# read the left image\n",
    "image_left = cv2.imread('left.jpg',0)\n",
    "# read the right image\n",
    "image_right = cv2.imread('right.jpg',0)"
   ]
  },
  {
   "cell_type": "code",
   "execution_count": null,
   "metadata": {},
   "outputs": [],
   "source": [
    "# Initiate ORB detector\n",
    "orb = cv2.ORB_create(nfeatures=5000)\n",
    "\n",
    "# find the keypoints with ORB\n",
    "kp1 = orb.detect(image_left,None)\n",
    "kp2 = orb.detect(image_right,None)\n",
    "# compute the descriptors with ORB\n",
    "kp1, des1 = orb.compute(image_left, kp1)\n",
    "kp2, des2 = orb.compute(image_right, kp2)"
   ]
  },
  {
   "cell_type": "code",
   "execution_count": null,
   "metadata": {},
   "outputs": [],
   "source": [
    "image1_copy= image_left\n",
    "image2_copy= image_right\n",
    "\n",
    "image1_copy = cv2.drawKeypoints(image_left,kp1,None,(255,0,0),4)\n",
    "image2_copy = cv2.drawKeypoints(image_right,kp2,None,(255,0,0),4)"
   ]
  },
  {
   "cell_type": "code",
   "execution_count": null,
   "metadata": {},
   "outputs": [],
   "source": [
    "cv2.imshow(\"Left image\",image1_copy)\n",
    "cv2.imshow(\"Right image\",image2_copy)\n",
    "cv2.waitKey(0)"
   ]
  },
  {
   "cell_type": "code",
   "execution_count": null,
   "metadata": {},
   "outputs": [],
   "source": []
  },
  {
   "cell_type": "code",
   "execution_count": null,
   "metadata": {},
   "outputs": [],
   "source": []
  },
  {
   "cell_type": "code",
   "execution_count": null,
   "metadata": {},
   "outputs": [],
   "source": []
  },
  {
   "cell_type": "code",
   "execution_count": 22,
   "metadata": {},
   "outputs": [
    {
     "name": "stdout",
     "output_type": "stream",
     "text": [
      "Fundamental matrix:\n",
      " [[ 7.45058060e-09 -4.22000885e-05 -2.22778320e-03]\n",
      " [ 4.85181808e-05 -4.42564487e-06  6.60885644e+13]\n",
      " [-6.05106354e-04 -6.60885644e+13  1.00000000e+00]]\n"
     ]
    },
    {
     "data": {
      "text/plain": [
       "-1"
      ]
     },
     "execution_count": 22,
     "metadata": {},
     "output_type": "execute_result"
    }
   ],
   "source": [
    "import cv2\n",
    "import numpy as np\n",
    "import matplotlib.pyplot as plt\n",
    "# read the left image\n",
    "image_left = cv2.imread('I1_000090.png',0)\n",
    "# read the right image\n",
    "image_right = cv2.imread('I2_000090.png',0)\n",
    "# Initiate ORB detector\n",
    "orb = cv2.ORB_create(nfeatures=5000)\n",
    "\n",
    "# find the keypoints with ORB\n",
    "kp1 = orb.detect(image_left,None)\n",
    "kp2 = orb.detect(image_right,None)\n",
    "# compute the descriptors with ORB\n",
    "kp1, des1 = orb.compute(image_left, kp1)\n",
    "kp2, des2 = orb.compute(image_right, kp2)\n",
    "image1_copy= image_left\n",
    "image2_copy= image_right\n",
    "\n",
    "image1_copy = cv2.drawKeypoints(image_left,kp1[::8],None,(255,0,0),4)\n",
    "image2_copy = cv2.drawKeypoints(image_right,kp2[::8],None,(255,0,0),4)\n",
    "cv2.imshow(\"Left image\",image1_copy)\n",
    "cv2.imshow(\"Right image\",image2_copy)\n",
    "cv2.waitKey(0)\n",
    "\n",
    "\n",
    "FLANN_INDEX_LSH = 6\n",
    "index_params= dict(algorithm = FLANN_INDEX_LSH,\n",
    "                   table_number = 6, # 12\n",
    "                   key_size = 12,     # 20\n",
    "                   multi_probe_level = 1) #2\n",
    "\n",
    "search_params = dict(checks=50)   # or pass empty dictionary\n",
    "flann = cv2.FlannBasedMatcher(index_params,search_params)\n",
    "matches = flann.knnMatch(des1,des2,k=2)\n",
    "good = []\n",
    "points1 = []\n",
    "points2 = []\n",
    "# ratio test as per Lowe's paper\n",
    "for i,(m,n) in enumerate(matches):\n",
    "    if m.distance < 0.7*n.distance:\n",
    "        good.append(m)\n",
    "        points1.append(kp1[m.queryIdx].pt)\n",
    "        points2.append(kp2[m.trainIdx].pt)\n",
    "\n",
    "\n",
    "points1 = np.int32(points1)\n",
    "points2 = np.int32(points2)\n",
    "# This is an important step. So here we need to find the fundamental matrix\n",
    "F, mask = cv2.findFundamentalMat(points1,points2,cv2.FM_LMEDS)\n",
    "\n",
    "print(\"Fundamental matrix:\\n\", F)\n",
    "\n",
    "# We select only inlier points\n",
    "points1 = points1[mask.ravel()==1]\n",
    "points2 = points2[mask.ravel()==1]\n",
    "\n",
    "\n",
    "# Function for drawing lines\n",
    "def drawlines(image1,lines,points1,points2):\n",
    "    rows,columns = image1.shape\n",
    "    image1 = cv2.cvtColor(image1,cv2.COLOR_GRAY2BGR)\n",
    "    for r,pt1,pt2 in zip(lines,points1,points2):\n",
    "        color = tuple(np.random.randint(0,255,3).tolist())\n",
    "        x0,y0 = map(int, [0, -r[2]/r[1] ])\n",
    "        x1,y1 = map(int, [columns, -(r[2]+r[0]*columns)/r[1] ])\n",
    "        image1 = cv2.line(image1, (x0,y0), (x1,y1), color,1)\n",
    "    return image1\n",
    "\n",
    "# Find epilines corresponding to points in right image (second image) and\n",
    "# drawing its lines on left image\n",
    "lines1 = cv2.computeCorrespondEpilines(points1.reshape(-1,1,2), 2,F)\n",
    "lines1 = lines1.reshape(-1,3)\n",
    "epilines_left = drawlines(image_left,lines1[::8],points1,points2)\n",
    "# Find epilines corresponding to points in left image (first image) and\n",
    "# drawing its lines on right image\n",
    "lines2 = cv2.computeCorrespondEpilines(points1.reshape(-1,1,2), 1,F)\n",
    "lines2 = lines2.reshape(-1,3)\n",
    "epilines_right = drawlines(image_right,lines2[::8],points2,points1)\n",
    "cv2.imshow(\"Left image\",epilines_left)\n",
    "cv2.imshow(\"Right image\",epilines_right)\n",
    "cv2.waitKey(0)"
   ]
  },
  {
   "cell_type": "code",
   "execution_count": 23,
   "metadata": {},
   "outputs": [
    {
     "data": {
      "text/plain": [
       "True"
      ]
     },
     "execution_count": 23,
     "metadata": {},
     "output_type": "execute_result"
    }
   ],
   "source": [
    "cv2.imwrite(\"epilines_left.jpg\", epilines_left)\n",
    "cv2.imwrite(\"epilines_right.jpg\", epilines_right)\n",
    "\n",
    "cv2.imwrite(\"image1_points.jpg\", image1_copy)\n",
    "cv2.imwrite(\"image2_points.jpg\", image2_copy)"
   ]
  },
  {
   "cell_type": "code",
   "execution_count": null,
   "metadata": {},
   "outputs": [],
   "source": []
  }
 ],
 "metadata": {
  "kernelspec": {
   "display_name": "Python 3",
   "language": "python",
   "name": "python3"
  },
  "language_info": {
   "codemirror_mode": {
    "name": "ipython",
    "version": 3
   },
   "file_extension": ".py",
   "mimetype": "text/x-python",
   "name": "python",
   "nbconvert_exporter": "python",
   "pygments_lexer": "ipython3",
   "version": "3.7.3"
  }
 },
 "nbformat": 4,
 "nbformat_minor": 2
}
