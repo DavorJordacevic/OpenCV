{
 "cells": [
  {
   "cell_type": "code",
   "execution_count": 1,
   "metadata": {},
   "outputs": [],
   "source": [
    "import cv2"
   ]
  },
  {
   "cell_type": "code",
   "execution_count": 2,
   "metadata": {},
   "outputs": [],
   "source": [
    "# read the image as a grayscale\n",
    "image = cv2.imread('daenerys.jpg',0)"
   ]
  },
  {
   "cell_type": "code",
   "execution_count": 3,
   "metadata": {},
   "outputs": [],
   "source": [
    "# First type of Simple Thresholding is Binary Thresholding\n",
    "# After thresholding the image with this type of operator, we will\n",
    "# have image with only two values, 0 and 255.\n",
    "\n",
    "ret,thresh1 = cv2.threshold(image,127,255,cv2.THRESH_BINARY)"
   ]
  },
  {
   "cell_type": "code",
   "execution_count": 4,
   "metadata": {},
   "outputs": [],
   "source": [
    "# Inverse binary thresholding is just the opposite of binary thresholding.\n",
    "\n",
    "ret,thresh2 = cv2.threshold(image,127,255,cv2.THRESH_BINARY_INV)"
   ]
  },
  {
   "cell_type": "code",
   "execution_count": 5,
   "metadata": {},
   "outputs": [],
   "source": [
    "# Truncate Thresholding is type of thresholding where pixel\n",
    "# is set to the threshold value if it exceeds that value.\n",
    "# Othervise, it stays the same.\n",
    "\n",
    "ret,thresh3 = cv2.threshold(image,127,255,cv2.THRESH_TRUNC)"
   ]
  },
  {
   "cell_type": "code",
   "execution_count": 6,
   "metadata": {},
   "outputs": [],
   "source": [
    "# Threshold to Zero is type of thresholding where pixel value stays the same\n",
    "# if it is greater than the threshold. Otherwise it is set to zero.\n",
    "\n",
    "ret,thresh4 = cv2.threshold(image,127,255,cv2.THRESH_TOZERO)"
   ]
  },
  {
   "cell_type": "code",
   "execution_count": 7,
   "metadata": {},
   "outputs": [],
   "source": [
    "# Inverted Threshold to Zero is the opposite of the last one.\n",
    "# Pixel value is set to zero if it is greater than the threshold.\n",
    "# Otherwise it stays the same.\n",
    "\n",
    "ret,thresh5 = cv2.threshold(image,127,255,cv2.THRESH_TOZERO_INV)"
   ]
  },
  {
   "cell_type": "code",
   "execution_count": 8,
   "metadata": {},
   "outputs": [],
   "source": [
    "cv2.imshow(\"THRESH_BINARY\", thresh1)\n",
    "cv2.imshow(\"THRESH_BINARY_INV\", thresh2)\n",
    "cv2.imshow(\"THRESH_TRUNC\", thresh3)\n",
    "cv2.imshow(\"THRESH_TOZERO\", thresh4)\n",
    "cv2.imshow(\"THRESH_TOZERO_INV\", thresh5)\n",
    "cv2.waitKey(0)\n",
    "cv2.destroyAllWindows();"
   ]
  }
 ],
 "metadata": {
  "kernelspec": {
   "display_name": "Python 3",
   "language": "python",
   "name": "python3"
  },
  "language_info": {
   "codemirror_mode": {
    "name": "ipython",
    "version": 3
   },
   "file_extension": ".py",
   "mimetype": "text/x-python",
   "name": "python",
   "nbconvert_exporter": "python",
   "pygments_lexer": "ipython3",
   "version": "3.6.7"
  }
 },
 "nbformat": 4,
 "nbformat_minor": 2
}
