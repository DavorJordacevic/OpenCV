{
  "nbformat": 4,
  "nbformat_minor": 0,
  "metadata": {
    "colab": {
      "name": "Epipolar Geometry.ipynb",
      "provenance": [],
      "collapsed_sections": [],
      "include_colab_link": true
    },
    "kernelspec": {
      "name": "python3",
      "display_name": "Python 3"
    }
  },
  "cells": [
    {
      "cell_type": "markdown",
      "metadata": {
        "id": "view-in-github",
        "colab_type": "text"
      },
      "source": [
        "<a href=\"https://colab.research.google.com/github/DavorJordacevic/OpenCV/blob/master/Epipolar_Geometry.ipynb\" target=\"_parent\"><img src=\"https://colab.research.google.com/assets/colab-badge.svg\" alt=\"Open In Colab\"/></a>"
      ]
    },
    {
      "cell_type": "code",
      "metadata": {
        "id": "8PMNqBH4qFRg",
        "colab_type": "code",
        "colab": {}
      },
      "source": [
        "import cv2\n",
        "import numpy as np"
      ],
      "execution_count": 0,
      "outputs": []
    },
    {
      "cell_type": "code",
      "metadata": {
        "id": "1-04MNFFqNMG",
        "colab_type": "code",
        "colab": {}
      },
      "source": [
        "# read the left image\n",
        "image_left = cv2.imread('left.jpg',0)\n",
        "# read the right image\n",
        "image_right = cv2.imread('right.jpg',0)"
      ],
      "execution_count": 0,
      "outputs": []
    },
    {
      "cell_type": "markdown",
      "metadata": {
        "id": "Qx0dmAnEsqVR",
        "colab_type": "text"
      },
      "source": [
        "**ORB (Oriented FAST and Rotated BRIEF)**"
      ]
    },
    {
      "cell_type": "code",
      "metadata": {
        "id": "eFlc0yvHso4N",
        "colab_type": "code",
        "colab": {}
      },
      "source": [
        "# Initiate ORB detector\n",
        "orb = cv2.ORB_create(2000)\n",
        "\n",
        "# Find the keypoints with ORB\n",
        "kp1 = orb.detect(image_left,None)\n",
        "kp2 = orb.detect(image_right,None)\n",
        "\n",
        "# Compute the descriptors with ORB\n",
        "kp1, des1 = orb.compute(image_left, kp1)\n",
        "kp2, des2 = orb.compute(image_right, kp2)\n",
        "\n",
        "# Convert descriptors to float32\n",
        "des1 = np.float32(des1)\n",
        "des2 = np.float32(des2)"
      ],
      "execution_count": 0,
      "outputs": []
    },
    {
      "cell_type": "code",
      "metadata": {
        "id": "DIrRLoR7sz8W",
        "colab_type": "code",
        "colab": {}
      },
      "source": [
        "# Make a copy of both images\n",
        "image1_copy= image_left\n",
        "image2_copy= image_right\n",
        "\n",
        "# Draw keypoints\n",
        "image1_copy = cv2.drawKeypoints(image_left,kp1,None,(255,0,0),4)\n",
        "image2_copy = cv2.drawKeypoints(image_right,kp2,None,(255,0,0),4)"
      ],
      "execution_count": 0,
      "outputs": []
    },
    {
      "cell_type": "markdown",
      "metadata": {
        "id": "Tw3lBuOIu1W-",
        "colab_type": "text"
      },
      "source": [
        "**FLANN MATCHER**"
      ]
    },
    {
      "cell_type": "code",
      "metadata": {
        "id": "Hwci2ylsuz4x",
        "colab_type": "code",
        "colab": {}
      },
      "source": [
        "# we need to define some FLANN(Fast Approximate Nearest Neighbor Search Library) parameters\n",
        "FLANN_INDEX_KDTREE = 1\n",
        "index_params = dict(algorithm = FLANN_INDEX_KDTREE, trees = 5)\n",
        "search_params = dict(checks=50)"
      ],
      "execution_count": 0,
      "outputs": []
    },
    {
      "cell_type": "code",
      "metadata": {
        "id": "Mn7n1nfeu6M5",
        "colab_type": "code",
        "colab": {}
      },
      "source": [
        "# Matching descriptor vectors using FLANN matcher\n",
        "flann = cv2.FlannBasedMatcher(index_params,search_params)\n",
        "matches = flann.knnMatch(des1,des2,k=2)"
      ],
      "execution_count": 0,
      "outputs": []
    },
    {
      "cell_type": "code",
      "metadata": {
        "id": "okImykBTu7h-",
        "colab_type": "code",
        "colab": {}
      },
      "source": [
        "good = []\n",
        "points1 = []\n",
        "points2 = []"
      ],
      "execution_count": 0,
      "outputs": []
    },
    {
      "cell_type": "code",
      "metadata": {
        "id": "6Ncs6fZlu9NI",
        "colab_type": "code",
        "colab": {}
      },
      "source": [
        "# ratio test as per Lowe's paper\n",
        "for i,(m,n) in enumerate(matches):\n",
        "    if m.distance < 0.8*n.distance:\n",
        "        good.append(m)\n",
        "        points1.append(kp1[m.queryIdx].pt)\n",
        "        points2.append(kp2[m.trainIdx].pt)"
      ],
      "execution_count": 0,
      "outputs": []
    },
    {
      "cell_type": "markdown",
      "metadata": {
        "id": "XlEzRBG7vAb3",
        "colab_type": "text"
      },
      "source": [
        "**FUNDAMENTAL MATRIX**"
      ]
    },
    {
      "cell_type": "code",
      "metadata": {
        "id": "a4p0EZGnu_AZ",
        "colab_type": "code",
        "colab": {}
      },
      "source": [
        "points1 = np.int32(points1)\n",
        "points2 = np.int32(points2)\n",
        "# This is an important step. So here we need to find the fundamental matrix\n",
        "F, mask = cv2.findFundamentalMat(points1,points2,cv2.FM_LMEDS)"
      ],
      "execution_count": 0,
      "outputs": []
    },
    {
      "cell_type": "code",
      "metadata": {
        "id": "2tF8NOcfvDLe",
        "colab_type": "code",
        "colab": {}
      },
      "source": [
        "print(\"Fundamental matrix:\\n\", F)"
      ],
      "execution_count": 0,
      "outputs": []
    },
    {
      "cell_type": "code",
      "metadata": {
        "id": "JEojtBukvFT3",
        "colab_type": "code",
        "colab": {}
      },
      "source": [
        "# We select only inlier points\n",
        "points1 = points1[mask.ravel()==1]\n",
        "points2 = points2[mask.ravel()==1]"
      ],
      "execution_count": 0,
      "outputs": []
    },
    {
      "cell_type": "markdown",
      "metadata": {
        "id": "sjuco3iIvKYY",
        "colab_type": "text"
      },
      "source": [
        "**EPIPOLAR LINES**"
      ]
    },
    {
      "cell_type": "code",
      "metadata": {
        "id": "qU5VgvfLvGko",
        "colab_type": "code",
        "colab": {}
      },
      "source": [
        "# Function for drawing lines\n",
        "def drawlines(image1,lines,points1,points2):\n",
        "    rows,columns = image1.shape\n",
        "    image1 = cv2.cvtColor(image1,cv2.COLOR_GRAY2BGR)\n",
        "    for r,pt1,pt2 in zip(lines,points1,points2):\n",
        "        color = tuple(np.random.randint(0,255,3).tolist())\n",
        "        x0,y0 = map(int, [0, -r[2]/r[1] ])\n",
        "        x1,y1 = map(int, [columns, -(r[2]+r[0]*columns)/r[1] ])\n",
        "        image1 = cv2.line(image1, (x0,y0), (x1,y1), color,1)\n",
        "    return image1"
      ],
      "execution_count": 0,
      "outputs": []
    },
    {
      "cell_type": "code",
      "metadata": {
        "id": "EZXdu-2KvJOm",
        "colab_type": "code",
        "colab": {}
      },
      "source": [
        "# Find epilines corresponding to points in right image (second image) and\n",
        "# drawing its lines on left image\n",
        "lines1 = cv2.computeCorrespondEpilines(points1.reshape(-1,1,2), 2,F)\n",
        "lines1 = lines1.reshape(-1,3)\n",
        "epilines_left = drawlines(image_left,lines1,points1,points2)"
      ],
      "execution_count": 0,
      "outputs": []
    },
    {
      "cell_type": "code",
      "metadata": {
        "id": "5MabE1I2vNn6",
        "colab_type": "code",
        "colab": {}
      },
      "source": [
        "# Find epilines corresponding to points in left image (first image) and\n",
        "# drawing its lines on right image\n",
        "lines2 = cv2.computeCorrespondEpilines(points1.reshape(-1,1,2), 1,F)\n",
        "lines2 = lines2.reshape(-1,3)\n",
        "epilines_right = drawlines(image_right,lines2,points2,points1)"
      ],
      "execution_count": 0,
      "outputs": []
    },
    {
      "cell_type": "code",
      "metadata": {
        "id": "NmRCN75mvOq2",
        "colab_type": "code",
        "colab": {}
      },
      "source": [
        "cv2.imshow(\"Left image\",epilines_left)\n",
        "cv2.imshow(\"Right image\",epilines_right)\n",
        "\n",
        "cv2.waitKey(0)\n",
        "cv2.DestroyAllWindows()"
      ],
      "execution_count": 0,
      "outputs": []
    }
  ]
}