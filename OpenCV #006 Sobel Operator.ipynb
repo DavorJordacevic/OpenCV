{
 "cells": [
  {
   "cell_type": "code",
   "execution_count": 1,
   "metadata": {},
   "outputs": [],
   "source": [
    "import cv2\n",
    "import numpy as np"
   ]
  },
  {
   "cell_type": "code",
   "execution_count": 3,
   "metadata": {},
   "outputs": [],
   "source": [
    "image = cv2.imread('03.jpg',0)\n",
    "\n",
    "cv2.imshow('Original image',image)\n",
    "cv2.imwrite('Original image.jpg',image)\n",
    "cv2.waitKey()\n",
    "cv2.destroyAllWindows()"
   ]
  },
  {
   "cell_type": "markdown",
   "metadata": {},
   "source": [
    "We have already explained linear filters for horizontal and vertical edge detection\n",
    "\n",
    "Reference -->> CNN #002, CNN #003 posts."
   ]
  },
  {
   "cell_type": "code",
   "execution_count": 10,
   "metadata": {},
   "outputs": [
    {
     "data": {
      "text/plain": [
       "True"
      ]
     },
     "execution_count": 10,
     "metadata": {},
     "output_type": "execute_result"
    }
   ],
   "source": [
    "# this is how we can create a horizontal and vertical edge detector.\n",
    "image_X = cv2.Sobel(image, cv2.CV_8UC1, 1, 0)\n",
    "\n",
    "cv2.imshow(\"Sobel image\", image_X)\n",
    "cv2.waitKey()\n",
    "cv2.destroyAllWindows()\n",
    "cv2.imwrite(\"vertical.jpg\",image_X)"
   ]
  },
  {
   "cell_type": "code",
   "execution_count": 11,
   "metadata": {},
   "outputs": [
    {
     "data": {
      "text/plain": [
       "True"
      ]
     },
     "execution_count": 11,
     "metadata": {},
     "output_type": "execute_result"
    }
   ],
   "source": [
    "image_Y = cv2.Sobel(image, cv2.CV_8UC1, 0, 1)\n",
    "cv2.imshow(\"Sobel image\", image_Y)\n",
    "cv2.waitKey()\n",
    "cv2.destroyAllWindows()\n",
    "cv2.imwrite(\"horizontal.jpg\",image_Y)"
   ]
  },
  {
   "cell_type": "code",
   "execution_count": 32,
   "metadata": {},
   "outputs": [
    {
     "data": {
      "text/plain": [
       "-1"
      ]
     },
     "execution_count": 32,
     "metadata": {},
     "output_type": "execute_result"
    }
   ],
   "source": [
    "sobel = cv2.add(image_X, image_Y)\n",
    "cv2.imshow(\"Sobel - L1 norm\", sobel)\n",
    "cv2.waitKey()"
   ]
  },
  {
   "cell_type": "code",
   "execution_count": 33,
   "metadata": {},
   "outputs": [],
   "source": [
    "(_, sobmin, _, sobmax) = cv2.minMaxLoc(sobel)\n",
    "# this idea is inspired from the book\n",
    "# \"Robert Laganiere Learning OpenCV 3:: computer vision\"\n",
    "# what it actually does, makes the non-edges to white values\n",
    "# and edges to dark values, so that it is more common for our visual interpretation.\n",
    "# this is done according to formula\n",
    "# sobelImage = - alpha * sobel +  255;"
   ]
  },
  {
   "cell_type": "code",
   "execution_count": 45,
   "metadata": {},
   "outputs": [
    {
     "data": {
      "text/plain": [
       "-1"
      ]
     },
     "execution_count": 45,
     "metadata": {},
     "output_type": "execute_result"
    }
   ],
   "source": [
    "#sobel.convertTo(sobelImage, CV_8UC1, -255./sobmax, 255);\n",
    "\n",
    "sobelImage = np.int16(sobel)     # convert to signed 16 bit integer to allow overflow\n",
    "sobelImage = np.clip(sobelImage, -255./sobmax[0], 255) # force all values to be between -255./sobmax and 255\n",
    "\n",
    "# after clip img2 is effectively unsigned 8 bit, but make it explicit:\n",
    "sobelImage = np.uint8(sobelImage)\n",
    "\n",
    "cv2.imshow(\"Edges with a sobel detector\", sobelImage)\n",
    "cv2.imwrite(\"Edges with a sobel detector.jpg\", sobelImage)\n",
    "cv2.waitKey()"
   ]
  },
  {
   "cell_type": "code",
   "execution_count": 46,
   "metadata": {},
   "outputs": [
    {
     "data": {
      "text/plain": [
       "-1"
      ]
     },
     "execution_count": 46,
     "metadata": {},
     "output_type": "execute_result"
    }
   ],
   "source": [
    "(_, sobmin, _, sobmax) = cv2.minMaxLoc(sobelImage)\n",
    "# image_Laplacian = image_Laplacian / max_value * 255\n",
    "\n",
    "image_Sobel_thresholded = cv2.threshold(sobelImage, 20, 255, cv2.THRESH_BINARY)\n",
    "cv2.imshow(\"Thresholded Laplacian\", image_Sobel_thresholded[1])\n",
    "cv2.imwrite(\"Thresholded Laplacian.jpg\", image_Sobel_thresholded[1])\n",
    "cv2.waitKey()"
   ]
  },
  {
   "cell_type": "code",
   "execution_count": 47,
   "metadata": {},
   "outputs": [
    {
     "data": {
      "text/plain": [
       "-1"
      ]
     },
     "execution_count": 47,
     "metadata": {},
     "output_type": "execute_result"
    }
   ],
   "source": [
    "# Also, very popular filter for edge detection is Laplacian operator\n",
    "# It calculates differences in both x and y direction and then sums their amplitudes.\n",
    "\n",
    "# here we will apply low pass filtering in order to better detect edges\n",
    "# try to uncomment this line and the result will be much poorer.\n",
    "image = cv2.GaussianBlur(image,(5,5),1)\n",
    "\n",
    "image_Laplacian = cv2.Laplacian(image, cv2.CV_8UC1)\n",
    "\n",
    "cv2.imshow(\"The Laplacian\", image_Laplacian)\n",
    "cv2.imwrite(\"The Laplacian.jpg\", image_Laplacian)\n",
    "cv2.waitKey()"
   ]
  },
  {
   "cell_type": "code",
   "execution_count": 49,
   "metadata": {},
   "outputs": [
    {
     "data": {
      "text/plain": [
       "-1"
      ]
     },
     "execution_count": 49,
     "metadata": {},
     "output_type": "execute_result"
    }
   ],
   "source": [
    "(_, min_value1, _, max_value1) = cv2.minMaxLoc(image_Laplacian)\n",
    "#image_Laplacian = image_Laplacian / max_value * 255;\n",
    "\n",
    "image_Laplacian_thresholded = cv2.threshold(image_Laplacian,20, 255, cv2.THRESH_BINARY)\n",
    "cv2.imshow(\"Thresholded Laplacian\", image_Laplacian_thresholded[1])\n",
    "cv2.imwrite(\"Thresholded Laplacian.jpg\", image_Laplacian_thresholded[1])\n",
    "cv2.waitKey()\n",
    "\n",
    "image_Laplacian_thresholded = cv2.threshold(image_Laplacian,20, 255, cv2.THRESH_TRUNC)\n",
    "cv2.imshow(\"Thresholded Laplacian\", image_Laplacian_thresholded[1])\n",
    "cv2.waitKey()"
   ]
  },
  {
   "cell_type": "code",
   "execution_count": null,
   "metadata": {},
   "outputs": [],
   "source": []
  }
 ],
 "metadata": {
  "kernelspec": {
   "display_name": "Python 3",
   "language": "python",
   "name": "python3"
  },
  "language_info": {
   "codemirror_mode": {
    "name": "ipython",
    "version": 3
   },
   "file_extension": ".py",
   "mimetype": "text/x-python",
   "name": "python",
   "nbconvert_exporter": "python",
   "pygments_lexer": "ipython3",
   "version": "3.7.3"
  }
 },
 "nbformat": 4,
 "nbformat_minor": 2
}
