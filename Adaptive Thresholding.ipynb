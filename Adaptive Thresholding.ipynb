{
 "cells": [
  {
   "cell_type": "code",
   "execution_count": 1,
   "metadata": {},
   "outputs": [],
   "source": [
    "import cv2"
   ]
  },
  {
   "cell_type": "code",
   "execution_count": 2,
   "metadata": {},
   "outputs": [],
   "source": [
    "# read the image as a grayscale\n",
    "image = cv2.imread('daenerys.jpg',0)"
   ]
  },
  {
   "cell_type": "markdown",
   "metadata": {},
   "source": [
    "cv2.ADAPTIVE_THRESH_MEAN_C - Threshold value is the mean of neighbourhood area.\n",
    "\n",
    "cv2.ADAPTIVE_THRESH_GAUSSIAN_C - Threshold value is the weighted sum of neighbourhood values where weights are a gaussian window.\n",
    "\n",
    "Block Size - It decides the size of neighbourhood area.\n",
    "\n",
    "C - It is just a constant which is subtracted from the mean or weighted mean calculated."
   ]
  },
  {
   "cell_type": "code",
   "execution_count": 3,
   "metadata": {},
   "outputs": [],
   "source": [
    "th1 = cv2.adaptiveThreshold(image, 255, cv2.ADAPTIVE_THRESH_MEAN_C, cv2.THRESH_BINARY,11,2)\n",
    "th2 = cv2.adaptiveThreshold(image, 255, cv2.ADAPTIVE_THRESH_GAUSSIAN_C, cv2.THRESH_BINARY,11,2)"
   ]
  },
  {
   "cell_type": "code",
   "execution_count": 4,
   "metadata": {},
   "outputs": [],
   "source": [
    "cv2.imshow(\"Adaptive Mean Thresholding\", th1)\n",
    "cv2.imshow(\"Adaptive Gaussian Thresholding\", th2)\n",
    "cv2.waitKey(0)\n",
    "cv2.destroyAllWindows();"
   ]
  }
 ],
 "metadata": {
  "kernelspec": {
   "display_name": "Python 3",
   "language": "python",
   "name": "python3"
  },
  "language_info": {
   "codemirror_mode": {
    "name": "ipython",
    "version": 3
   },
   "file_extension": ".py",
   "mimetype": "text/x-python",
   "name": "python",
   "nbconvert_exporter": "python",
   "pygments_lexer": "ipython3",
   "version": "3.6.7"
  }
 },
 "nbformat": 4,
 "nbformat_minor": 2
}
