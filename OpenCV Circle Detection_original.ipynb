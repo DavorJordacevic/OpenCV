{
 "cells": [
  {
   "cell_type": "code",
   "execution_count": 1,
   "metadata": {},
   "outputs": [],
   "source": [
    "import numpy as np\n",
    "import cv2"
   ]
  },
  {
   "cell_type": "code",
   "execution_count": 3,
   "metadata": {},
   "outputs": [
    {
     "data": {
      "text/plain": [
       "-1"
      ]
     },
     "execution_count": 3,
     "metadata": {},
     "output_type": "execute_result"
    }
   ],
   "source": [
    "image = cv2.imread(\"sign.jpg\",0)\n",
    "\n",
    "cv2.imshow(\"Original image\", image)\n",
    "cv2.waitKey()"
   ]
  },
  {
   "cell_type": "code",
   "execution_count": 4,
   "metadata": {},
   "outputs": [
    {
     "data": {
      "text/plain": [
       "-1"
      ]
     },
     "execution_count": 4,
     "metadata": {},
     "output_type": "execute_result"
    }
   ],
   "source": [
    "blurred = cv2.GaussianBlur(image,(11,11),0)\n",
    "\n",
    "cv2.imshow(\"Blurred image\", blurred)\n",
    "cv2.waitKey()"
   ]
  },
  {
   "cell_type": "code",
   "execution_count": 5,
   "metadata": {},
   "outputs": [
    {
     "data": {
      "text/plain": [
       "-1"
      ]
     },
     "execution_count": 5,
     "metadata": {},
     "output_type": "execute_result"
    }
   ],
   "source": [
    "edged = cv2.Canny(blurred,30,150)\n",
    "\n",
    "cv2.imshow(\"Edged image\", edged)\n",
    "cv2.waitKey()"
   ]
  },
  {
   "cell_type": "code",
   "execution_count": 10,
   "metadata": {},
   "outputs": [],
   "source": [
    "output = blurred.copy()"
   ]
  },
  {
   "cell_type": "code",
   "execution_count": 11,
   "metadata": {},
   "outputs": [
    {
     "data": {
      "text/plain": [
       "-1"
      ]
     },
     "execution_count": 11,
     "metadata": {},
     "output_type": "execute_result"
    }
   ],
   "source": [
    "# Finds circles in a grayscale image using the Hough transform\n",
    "circles = cv2.HoughCircles(blurred, cv2.HOUGH_GRADIENT, 1, 100,\n",
    "                           param1=100,param2=100,minRadius=30,maxRadius=200)\n",
    "\n",
    "# cv2.HoughCircles function has a lot of parameters, so you can find more about it in documentation\n",
    "# or you can use cv2.HoughCircles? in jupyter nootebook to get that \n",
    "\n",
    "# Check to see if there is any detection\n",
    "if circles is not None:\n",
    "    # If there are some detections, convert radius and x,y(center) coordinates to integer\n",
    "    circles = np.round(circles[0, :]).astype(\"int\")\n",
    "\n",
    "    for (x, y, r) in circles:\n",
    "        # Draw the circle in the output image\n",
    "        cv2.circle(output, (x, y), r, (0,255,0), 3)\n",
    "        # Draw a rectangle(center) in the output image\n",
    "        cv2.rectangle(output, (x - 2, y - 2), (x + 2, y + 2), (0,255,0), -1)\n",
    "\n",
    "cv2.imshow(\"Detections\",output)\n",
    "cv2.imwrite(\"CirclesDetectionGray.jpg\",output)\n",
    "cv2.waitKey()"
   ]
  },
  {
   "cell_type": "code",
   "execution_count": 12,
   "metadata": {},
   "outputs": [
    {
     "data": {
      "text/plain": [
       "-1"
      ]
     },
     "execution_count": 12,
     "metadata": {},
     "output_type": "execute_result"
    }
   ],
   "source": [
    "# Here's a complete procedure\n",
    "\n",
    "# Read the image as greyscale\n",
    "image = cv2.imread(\"sign.jpg\",1)\n",
    "\n",
    "# Convert color into grayscale\n",
    "gray = cv2.cvtColor(image, cv2.COLOR_BGR2GRAY)\n",
    "\n",
    "# Blur the image with a Gaussian Blur\n",
    "blurred = cv2.GaussianBlur(gray,(11,11),0)\n",
    "\n",
    "# Make a copy of a blurred image\n",
    "output = blurred.copy()\n",
    "# Finds circles in a grayscale image using the Hough transform\n",
    "circles = cv2.HoughCircles(blurred, cv2.HOUGH_GRADIENT, 1, 100,\n",
    "                           param1=100,param2=100,minRadius=30,maxRadius=200)\n",
    "\n",
    "# cv2.HoughCircles function has a lot of parameters, so you can find more about it in documentation\n",
    "# or you can use cv2.HoughCircles? in jupyter nootebook to get that \n",
    "\n",
    "# Check to see if there is any detection\n",
    "if circles is not None:\n",
    "    # If there are some detections, convert radius and x,y(center) coordinates to integer\n",
    "    circles = np.round(circles[0, :]).astype(\"int\")\n",
    "\n",
    "    for (x, y, r) in circles:\n",
    "        # Draw the circle in the output image\n",
    "        cv2.circle(output, (x, y), r, (0,255,0), 3)\n",
    "        # Draw a rectangle(center) in the output image\n",
    "        cv2.rectangle(output, (x - 2, y - 2), (x + 2, y + 2), (0,255,0), -1)\n",
    "\n",
    "cv2.imshow(\"Detections\",output)\n",
    "cv2.waitKey()"
   ]
  },
  {
   "cell_type": "code",
   "execution_count": 9,
   "metadata": {},
   "outputs": [
    {
     "data": {
      "text/plain": [
       "-1"
      ]
     },
     "execution_count": 9,
     "metadata": {},
     "output_type": "execute_result"
    }
   ],
   "source": [
    "'''\n",
    "image = cv2.imread(\"sign.jpg\",1)\n",
    "circles = cv2.HoughCircles(blurred, cv2.HOUGH_GRADIENT, 1, 100,\n",
    "                           param1=100,param2=100,minRadius=30,maxRadius=200)\n",
    "\n",
    "# cv2.HoughCircles function has a lot of parameters, so you can find more about it in documentation\n",
    "# or you can use cv2.HoughCircles? in jupyter nootebook to get that \n",
    "\n",
    "# Check to see if there is any detection\n",
    "if circles is not None:\n",
    "    # If there are some detections, convert radius and x,y(center) coordinates to integer\n",
    "    circles = np.round(circles[0, :]).astype(\"int\")\n",
    "\n",
    "    for (x, y, r) in circles:\n",
    "        # Draw the circle in the output image\n",
    "        cv2.circle(image, (x, y), r, (0,255,0), 3)\n",
    "        # Draw a rectangle(center) in the output image\n",
    "        cv2.rectangle(image, (x - 2, y - 2), (x + 2, y + 2), (0,255,0), -1)\n",
    "\n",
    "cv2.imwrite(\"CirclesDetection.jpg\",image)\n",
    "cv2.waitKey()\n",
    "'''"
   ]
  },
  {
   "cell_type": "code",
   "execution_count": null,
   "metadata": {},
   "outputs": [],
   "source": []
  }
 ],
 "metadata": {
  "kernelspec": {
   "display_name": "Python 3",
   "language": "python",
   "name": "python3"
  },
  "language_info": {
   "codemirror_mode": {
    "name": "ipython",
    "version": 3
   },
   "file_extension": ".py",
   "mimetype": "text/x-python",
   "name": "python",
   "nbconvert_exporter": "python",
   "pygments_lexer": "ipython3",
   "version": "3.6.7"
  }
 },
 "nbformat": 4,
 "nbformat_minor": 2
}
