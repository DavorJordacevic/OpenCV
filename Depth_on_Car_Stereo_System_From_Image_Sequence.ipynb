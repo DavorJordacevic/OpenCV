{
  "nbformat": 4,
  "nbformat_minor": 0,
  "metadata": {
    "colab": {
      "name": "Depth on Car Stereo System From Image Sequence.ipynb",
      "provenance": [],
      "collapsed_sections": [],
      "include_colab_link": true
    },
    "kernelspec": {
      "name": "python3",
      "display_name": "Python 3"
    }
  },
  "cells": [
    {
      "cell_type": "markdown",
      "metadata": {
        "id": "view-in-github",
        "colab_type": "text"
      },
      "source": [
        "<a href=\"https://colab.research.google.com/github/DavorJordacevic/OpenCV/blob/master/Depth_on_Car_Stereo_System_From_Image_Sequence.ipynb\" target=\"_parent\"><img src=\"https://colab.research.google.com/assets/colab-badge.svg\" alt=\"Open In Colab\"/></a>"
      ]
    },
    {
      "cell_type": "markdown",
      "metadata": {
        "id": "djiOmXSGT3Kz"
      },
      "source": [
        "Preprocessing"
      ]
    },
    {
      "cell_type": "code",
      "metadata": {
        "id": "cq3ohOQHTmMW",
        "colab": {
          "base_uri": "https://localhost:8080/",
          "height": 222
        },
        "outputId": "2598ed0b-018d-45fa-b135-4e7d6bb7415c"
      },
      "source": [
        "!wget \"https://liquidtelecom.dl.sourceforge.net/project/mrpt/Datasets%20%28Rawlogs%29/Datasets/Karlsruhe_sequences/2010_03_09_drive_0023.zip\""
      ],
      "execution_count": null,
      "outputs": [
        {
          "output_type": "stream",
          "text": [
            "--2019-08-25 10:25:04--  https://liquidtelecom.dl.sourceforge.net/project/mrpt/Datasets%20%28Rawlogs%29/Datasets/Karlsruhe_sequences/2010_03_09_drive_0023.zip\n",
            "Resolving liquidtelecom.dl.sourceforge.net (liquidtelecom.dl.sourceforge.net)... 197.155.77.8\n",
            "Connecting to liquidtelecom.dl.sourceforge.net (liquidtelecom.dl.sourceforge.net)|197.155.77.8|:443... connected.\n",
            "HTTP request sent, awaiting response... 200 OK\n",
            "Length: 61304933 (58M) [application/octet-stream]\n",
            "Saving to: ‘2010_03_09_drive_0023.zip’\n",
            "\n",
            "2010_03_09_drive_00 100%[===================>]  58.46M  12.3MB/s    in 6.0s    \n",
            "\n",
            "2019-08-25 10:25:11 (9.74 MB/s) - ‘2010_03_09_drive_0023.zip’ saved [61304933/61304933]\n",
            "\n"
          ],
          "name": "stdout"
        }
      ]
    },
    {
      "cell_type": "code",
      "metadata": {
        "id": "-wCh9O5dT10m"
      },
      "source": [
        "import zipfile\n",
        "\n",
        "with zipfile.ZipFile(\"2010_03_09_drive_0023.zip\",\"r\") as zip_ref:\n",
        "    zip_ref.extractall(\"\")"
      ],
      "execution_count": null,
      "outputs": []
    },
    {
      "cell_type": "markdown",
      "metadata": {
        "id": "mwkQLnre8cNe"
      },
      "source": [
        "\n",
        "\n",
        "---\n",
        "\n",
        "\n",
        "\n",
        "---\n",
        "\n",
        "\n",
        "\n",
        "---\n",
        "\n",
        "\n",
        "\n",
        "---\n",
        "\n",
        "\n",
        "\n",
        "---\n",
        "\n",
        "\n",
        "\n",
        "---\n",
        "\n"
      ]
    },
    {
      "cell_type": "code",
      "metadata": {
        "id": "W6dPp1sFTXCD"
      },
      "source": [
        "import cv2\n",
        "import glob\n",
        "import numpy as np"
      ],
      "execution_count": null,
      "outputs": []
    },
    {
      "cell_type": "code",
      "metadata": {
        "id": "-GRTuzP847GH"
      },
      "source": [
        "filenameLeft = glob.glob(\"2010_03_09_drive_0023/2010_03_09_drive_0023_Images/I1*.png\")\n",
        "filenameRight = glob.glob(\"2010_03_09_drive_0023/2010_03_09_drive_0023_Images/I2*.png\")\n",
        "\n",
        "filenameLeft.sort()\n",
        "filenameRight.sort()\n",
        "\n",
        "filenameLeft = np.asarray(filenameLeft)\n",
        "filenameRight = np.asarray(filenameRight)"
      ],
      "execution_count": null,
      "outputs": []
    },
    {
      "cell_type": "code",
      "metadata": {
        "id": "28LJ_6as5gL-"
      },
      "source": [
        "images_left = [cv2.imread(file) for file in filenameLeft]\n",
        "images_right = [cv2.imread(file) for file in filenameRight]\n",
        "\n",
        "images_left = np.asarray(images_left)\n",
        "images_right = np.asarray(images_right)"
      ],
      "execution_count": null,
      "outputs": []
    },
    {
      "cell_type": "code",
      "metadata": {
        "id": "keHDw7olVCgv"
      },
      "source": [
        "video = list()\n",
        "\n",
        "for i in range (images_left.shape[0]):\n",
        "  image_left = images_left[i]\n",
        "  image_right= images_right[i]\n",
        "\n",
        "  window_size = 3\n",
        "  min_disp = 0\n",
        "  num_disp = 160-min_disp\n",
        "\n",
        "  left_matcher = cv2.StereoSGBM_create(\n",
        "      minDisparity=0,\n",
        "      numDisparities=160,             \n",
        "      blockSize=5,\n",
        "      P1=8 * 3 * window_size ** 2,\n",
        "      P2=32 * 3 * window_size ** 2,\n",
        "      disp12MaxDiff=1,\n",
        "      uniquenessRatio=15,\n",
        "      speckleWindowSize=0,\n",
        "      speckleRange=2,\n",
        "      preFilterCap=63,\n",
        "      mode=cv2.STEREO_SGBM_MODE_SGBM_3WAY\n",
        "  )\n",
        "\n",
        "\n",
        "  right_matcher = cv2.ximgproc.createRightMatcher(left_matcher)\n",
        "  \n",
        "  # Disparity map filter based on Weighted Least Squares filter\n",
        "\n",
        "  # The amount of regularization during filtering. Larger values force filtered \n",
        "  # disparity map edges to adhere more to source image edges.\n",
        "  # Typical value is 8000\n",
        "  wls_filter_lambda = 80000 #lambda is reserved word\n",
        "  wls_filter_sigma = 1.3 # how sensitive the filtering process is to source image edges\n",
        "\n",
        "  # Create a filter \n",
        "  wls_filter = cv2.ximgproc.createDisparityWLSFilter(matcher_left=left_matcher)\n",
        "  wls_filter.setLambda(wls_filter_lambda)\n",
        "  wls_filter.setSigmaColor(wls_filter_sigma)\n",
        "\n",
        "\n",
        "  left_disparity = left_matcher.compute(image_left, image_right)\n",
        "  left_disparity = np.int16(left_disparity)\n",
        "\n",
        "  right_disparity = right_matcher.compute(image_right, image_left)\n",
        "  right_disparity = np.int16(right_disparity)\n",
        "\n",
        "  disparity = wls_filter.filter(left_disparity, image_left, None, right_disparity)\n",
        "\n",
        "  disparity = cv2.normalize(src=disparity, dst=disparity, beta=0, alpha=255, norm_type=cv2.NORM_MINMAX);\n",
        "  disparity = np.uint8(disparity)\n",
        "  \n",
        "  disparity = cv2.applyColorMap(disparity, cv2.COLORMAP_JET)\n",
        "  \n",
        "  video.append(disparity)"
      ],
      "execution_count": null,
      "outputs": []
    },
    {
      "cell_type": "code",
      "metadata": {
        "id": "eH1aoIhalGsD"
      },
      "source": [
        "video = np.asarray(video)"
      ],
      "execution_count": null,
      "outputs": []
    },
    {
      "cell_type": "code",
      "metadata": {
        "id": "vM4ouzpLkyAJ"
      },
      "source": [
        "# Define the codec and create VideoWriter object.The output is stored in 'output.avi' file.\n",
        "# Define the fps to be equal to 10. Also frame size is passed.\n",
        "\n",
        "videowriter = cv2.VideoWriter('disparity_py.avi',cv2.VideoWriter_fourcc('M','J','P','G'), 10, (video[0].shape[1],video[0].shape[0]))\n",
        "\n",
        "for i in range (video.shape[0]):\n",
        "  videowriter.write(video[i])\n",
        "  \n",
        "videowriter.release()"
      ],
      "execution_count": null,
      "outputs": []
    }
  ]
}