{
 "cells": [
  {
   "cell_type": "code",
   "execution_count": 1,
   "metadata": {},
   "outputs": [],
   "source": [
    "import cv2\n",
    "import numpy as np\n",
    "import random"
   ]
  },
  {
   "cell_type": "markdown",
   "metadata": {},
   "source": [
    "The code below illustrates how we can obtain 2 random numbers from uniform distribution."
   ]
  },
  {
   "cell_type": "code",
   "execution_count": 2,
   "metadata": {},
   "outputs": [
    {
     "name": "stdout",
     "output_type": "stream",
     "text": [
      " a:  0.08643411105105636 \n",
      " b:  0.43207878242069786\n"
     ]
    }
   ],
   "source": [
    "a = np.random.uniform(0,1)\n",
    "b = np.random.uniform(0,1)\n",
    "\n",
    "print(' a: ',a,'\\n','b: ',b)"
   ]
  },
  {
   "cell_type": "markdown",
   "metadata": {},
   "source": [
    "In the similar manner we can get two random numbers from a normal distribution"
   ]
  },
  {
   "cell_type": "code",
   "execution_count": 3,
   "metadata": {},
   "outputs": [
    {
     "name": "stdout",
     "output_type": "stream",
     "text": [
      " a:  -1.046111455748753 \n",
      " b:  -0.9925440569633253\n"
     ]
    }
   ],
   "source": [
    "a = np.random.normal(0,1)\n",
    "b = np.random.normal(0,1)\n",
    "\n",
    "print(' a: ',a,'\\n','b: ',b)"
   ]
  },
  {
   "cell_type": "code",
   "execution_count": 4,
   "metadata": {},
   "outputs": [
    {
     "data": {
      "text/plain": [
       "-1"
      ]
     },
     "execution_count": 4,
     "metadata": {},
     "output_type": "execute_result"
    }
   ],
   "source": [
    "# Let's first create a zero image with the same dimensions of the loaded image\n",
    "image = cv2.imread('game_of_thrones_002_dragon.jpg')\n",
    "\n",
    "gaussian_noise = np.zeros((image.shape[0], image.shape[1]),dtype=np.uint8)\n",
    "cv2.imshow('All zero values',gaussian_noise)\n",
    "cv2.waitKey()"
   ]
  },
  {
   "cell_type": "markdown",
   "metadata": {},
   "source": [
    "Now, we can set the pixel values as a Gaussian noise.\n",
    "We have set a mean value to 128 and a standard deviation to 20."
   ]
  },
  {
   "cell_type": "code",
   "execution_count": 5,
   "metadata": {},
   "outputs": [
    {
     "data": {
      "text/plain": [
       "True"
      ]
     },
     "execution_count": 5,
     "metadata": {},
     "output_type": "execute_result"
    }
   ],
   "source": [
    "cv2.randn(gaussian_noise, 128, 20)\n",
    "\n",
    "cv2.imshow('Gaussian noise',gaussian_noise)\n",
    "cv2.waitKey()\n",
    "cv2.imwrite(\"Gaussian random noise.jpg\",gaussian_noise)"
   ]
  },
  {
   "cell_type": "markdown",
   "metadata": {},
   "source": [
    "In a similar manner we can create an image whose pixel values have random values drawn from an uniform distribution."
   ]
  },
  {
   "cell_type": "code",
   "execution_count": 6,
   "metadata": {},
   "outputs": [
    {
     "data": {
      "text/plain": [
       "True"
      ]
     },
     "execution_count": 6,
     "metadata": {},
     "output_type": "execute_result"
    }
   ],
   "source": [
    "uniform_noise = np.zeros((image.shape[0], image.shape[1]),dtype=np.uint8)\n",
    "\n",
    "cv2.randu(uniform_noise,0,255)\n",
    "cv2.imshow('Uniform random noise',uniform_noise)\n",
    "cv2.waitKey()\n",
    "cv2.imwrite(\"Uniform random noise.jpg\",uniform_noise)"
   ]
  },
  {
   "cell_type": "markdown",
   "metadata": {},
   "source": [
    "And third important type of noise will be a black and pepper.\n",
    "\n",
    "Here we will due to a bit simplar visualization represent only a noise that has white pixels.\n",
    "\n",
    "One approach to do so is to let's say simply take a \"uniform_noise\" image.\n",
    "\n",
    "Set a threshold rule, where we will convert all pixels larger than a threshold to white (255) and we will set the remaining to zero."
   ]
  },
  {
   "cell_type": "code",
   "execution_count": 7,
   "metadata": {},
   "outputs": [],
   "source": [
    "impulse_noise = uniform_noise.copy()"
   ]
  },
  {
   "cell_type": "markdown",
   "metadata": {},
   "source": [
    "Here a number 250 is defined as a threshold value.\n",
    "\n",
    "Obviously, if we want to increase a number of white pixels we will need to decrease it.\n",
    "\n",
    "Otherwise, we can increase it and in that way we will suppress the number of white pixels."
   ]
  },
  {
   "cell_type": "code",
   "execution_count": 8,
   "metadata": {},
   "outputs": [
    {
     "data": {
      "text/plain": [
       "True"
      ]
     },
     "execution_count": 8,
     "metadata": {},
     "output_type": "execute_result"
    }
   ],
   "source": [
    "ret,impulse_noise = cv2.threshold(uniform_noise,250,255,cv2.THRESH_BINARY)\n",
    "\n",
    "cv2.imshow('Impuls noise',impulse_noise)\n",
    "cv2.waitKey()\n",
    "cv2.imwrite(\"Impuls noise.jpg\",impulse_noise)"
   ]
  },
  {
   "cell_type": "code",
   "execution_count": 9,
   "metadata": {},
   "outputs": [
    {
     "data": {
      "text/plain": [
       "True"
      ]
     },
     "execution_count": 9,
     "metadata": {},
     "output_type": "execute_result"
    }
   ],
   "source": [
    "image = cv2.imread('game_of_thrones_002_dragon.jpg',cv2.IMREAD_GRAYSCALE)\n",
    "gaussian_noise = (gaussian_noise*0.5).astype(np.uint8)\n",
    "noisy_image1 = cv2.add(image,gaussian_noise)\n",
    "\n",
    "cv2.imshow('Noisy image - Gaussian noise',noisy_image1)\n",
    "cv2.waitKey()\n",
    "cv2.imwrite(\"Noisy image1.jpg\",noisy_image1)"
   ]
  },
  {
   "cell_type": "code",
   "execution_count": 13,
   "metadata": {},
   "outputs": [
    {
     "data": {
      "text/plain": [
       "True"
      ]
     },
     "execution_count": 13,
     "metadata": {},
     "output_type": "execute_result"
    }
   ],
   "source": [
    "uniform_noise = (uniform_noise*0.5).astype(np.uint8)\n",
    "noisy_image2 = cv2.add(image,uniform_noise)\n",
    "\n",
    "cv2.imshow('Noisy image - Uniform noise',noisy_image2)\n",
    "cv2.waitKey()\n",
    "cv2.imwrite(\"Noisy image2.jpg\",noisy_image2)"
   ]
  },
  {
   "cell_type": "code",
   "execution_count": 11,
   "metadata": {},
   "outputs": [
    {
     "data": {
      "text/plain": [
       "True"
      ]
     },
     "execution_count": 11,
     "metadata": {},
     "output_type": "execute_result"
    }
   ],
   "source": [
    "impulse_noise = (impulse_noise*0.5).astype(np.uint8)\n",
    "noisy_image3 = cv2.add(image,impulse_noise)\n",
    "\n",
    "cv2.imshow('Noisy image - Impuls noise',noisy_image3)\n",
    "cv2.waitKey()\n",
    "cv2.imwrite(\"Noisy image3.jpg\",noisy_image3)"
   ]
  },
  {
   "cell_type": "markdown",
   "metadata": {},
   "source": [
    "Applying a simple median filter.\n",
    "\n",
    "There are, of course, as we will see, more advanced filters.\n",
    "\n",
    "However, not that even a simple median filter can do, rather effective job.\n",
    "\n",
    "This is true especially, for ? Well, you guess it."
   ]
  },
  {
   "cell_type": "code",
   "execution_count": 12,
   "metadata": {},
   "outputs": [
    {
     "data": {
      "text/plain": [
       "True"
      ]
     },
     "execution_count": 12,
     "metadata": {},
     "output_type": "execute_result"
    }
   ],
   "source": [
    "blurred1 = cv2.medianBlur(noisy_image1, 3)\n",
    "cv2.imshow('Median filter - Gaussian noise',blurred1)\n",
    "cv2.waitKey()\n",
    "cv2.imwrite(\"Median filter - Gaussian noise.jpg\",blurred1)\n",
    "\n",
    "blurred2 = cv2.medianBlur(noisy_image2, 3)\n",
    "cv2.imshow('Median filter - Uniform noise',blurred2)\n",
    "cv2.waitKey()\n",
    "cv2.imwrite(\"Median filter - Uniform noise.jpg\",blurred2)\n",
    "\n",
    "blurred3 = cv2.medianBlur(noisy_image3, 3)\n",
    "cv2.imshow('Median filter - Impuls noise',blurred3)\n",
    "cv2.waitKey()\n",
    "cv2.imwrite(\"Median filter - Impuls noise.jpg\",blurred3)"
   ]
  },
  {
   "cell_type": "code",
   "execution_count": 13,
   "metadata": {},
   "outputs": [
    {
     "data": {
      "text/plain": [
       "True"
      ]
     },
     "execution_count": 13,
     "metadata": {},
     "output_type": "execute_result"
    }
   ],
   "source": [
    "images = np.hstack((noisy_image1,noisy_image2,noisy_image3))\n",
    "cv2.imshow('images',images)\n",
    "cv2.waitKey()\n",
    "cv2.imwrite(\"noisy_images.jpg\",images)"
   ]
  },
  {
   "cell_type": "code",
   "execution_count": 14,
   "metadata": {},
   "outputs": [
    {
     "data": {
      "text/plain": [
       "True"
      ]
     },
     "execution_count": 14,
     "metadata": {},
     "output_type": "execute_result"
    }
   ],
   "source": [
    "bllured = np.hstack((blurred1,blurred2,blurred3))\n",
    "cv2.imshow('bllured',bllured)\n",
    "cv2.waitKey()\n",
    "cv2.imwrite(\"bllured.jpg\",bllured)"
   ]
  },
  {
   "cell_type": "code",
   "execution_count": null,
   "metadata": {},
   "outputs": [],
   "source": []
  }
 ],
 "metadata": {
  "kernelspec": {
   "display_name": "Python 3",
   "language": "python",
   "name": "python3"
  },
  "language_info": {
   "codemirror_mode": {
    "name": "ipython",
    "version": 3
   },
   "file_extension": ".py",
   "mimetype": "text/x-python",
   "name": "python",
   "nbconvert_exporter": "python",
   "pygments_lexer": "ipython3",
   "version": "3.6.7"
  }
 },
 "nbformat": 4,
 "nbformat_minor": 2
}
