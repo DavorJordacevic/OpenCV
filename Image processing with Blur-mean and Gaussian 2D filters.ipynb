{
 "cells": [
  {
   "cell_type": "code",
   "execution_count": 1,
   "metadata": {},
   "outputs": [],
   "source": [
    "import cv2\n",
    "import numpy as np\n",
    "import matplotlib.pyplot as plt"
   ]
  },
  {
   "cell_type": "code",
   "execution_count": 2,
   "metadata": {},
   "outputs": [
    {
     "data": {
      "text/plain": [
       "-1"
      ]
     },
     "execution_count": 2,
     "metadata": {},
     "output_type": "execute_result"
    }
   ],
   "source": [
    "image = cv2.imread('dragon.jpg',0)\n",
    "\n",
    "# we create a simple blur filter or a mean filter\n",
    "# all coefficients of this filter are the same and this\n",
    "# filter is also normalized.\n",
    "\n",
    "cv2.imshow('Original image',image)\n",
    "cv2.waitKey()\n",
    "\n",
    "processed_image = cv2.blur(image,(5,5))\n",
    "\n",
    "cv2.imshow('Blur filter applied of size 5',processed_image)\n",
    "cv2.waitKey()"
   ]
  },
  {
   "cell_type": "code",
   "execution_count": 3,
   "metadata": {},
   "outputs": [
    {
     "data": {
      "text/plain": [
       "-1"
      ]
     },
     "execution_count": 3,
     "metadata": {},
     "output_type": "execute_result"
    }
   ],
   "source": [
    "# Here we can create an image of all zeros.\n",
    "# Only one pixel will be 1.\n",
    "# In this example we will generate a very small image so that we can better\n",
    "# visualize the filtering effect with such an image.\n",
    "\n",
    "image_impulse = np.zeros((31,31),dtype='uint8')\n",
    "image_impulse[16,16] = 255\n",
    "\n",
    "cv2.imshow('Impulse image',image_impulse)\n",
    "cv2.waitKey()"
   ]
  },
  {
   "cell_type": "code",
   "execution_count": 4,
   "metadata": {},
   "outputs": [
    {
     "data": {
      "text/plain": [
       "-1"
      ]
     },
     "execution_count": 4,
     "metadata": {},
     "output_type": "execute_result"
    }
   ],
   "source": [
    "image_impulse_processed = cv2.blur(image_impulse,(3,3))\n",
    "\n",
    "cv2.imshow('Impulse image',image_impulse_processed)\n",
    "cv2.waitKey()\n",
    "\n",
    "# This will produce a small square of size 3x3 in the center\n",
    "# Notice that, since the filter is normalized, if we increase the size of the filter,\n",
    "# the intesity values of the square in the ouput image will be more lower.\n",
    "# Hence, more challenging to be detected.\n",
    "\n",
    "image_impulse_processed = cv2.blur(image_impulse,(7,7))\n",
    "\n",
    "cv2.imshow('Impulse image',image_impulse_processed)\n",
    "cv2.waitKey()"
   ]
  },
  {
   "cell_type": "markdown",
   "metadata": {},
   "source": [
    "Gaussian filter"
   ]
  },
  {
   "cell_type": "code",
   "execution_count": 5,
   "metadata": {},
   "outputs": [
    {
     "data": {
      "text/plain": [
       "-1"
      ]
     },
     "execution_count": 5,
     "metadata": {},
     "output_type": "execute_result"
    }
   ],
   "source": [
    "# First we will just apply a Gaussian filter on the image\n",
    "# This will also create a blurring or smoothing effect.\n",
    "# Try visually to notice the difference as compared with the mean/box/blur filter.\n",
    "\n",
    "image_gaussian_processed = cv2.GaussianBlur(image,(3,3),1)\n",
    "\n",
    "cv2.imshow('Gaussian processed',image_gaussian_processed)\n",
    "cv2.waitKey()"
   ]
  },
  {
   "cell_type": "code",
   "execution_count": 6,
   "metadata": {},
   "outputs": [
    {
     "data": {
      "text/plain": [
       "-1"
      ]
     },
     "execution_count": 6,
     "metadata": {},
     "output_type": "execute_result"
    }
   ],
   "source": [
    "image_gaussian_processed = cv2.GaussianBlur(image,(7,7),1)\n",
    "\n",
    "cv2.imshow('Gaussian processed',image_gaussian_processed)\n",
    "cv2.waitKey()"
   ]
  },
  {
   "cell_type": "code",
   "execution_count": 7,
   "metadata": {},
   "outputs": [
    {
     "data": {
      "text/plain": [
       "-1"
      ]
     },
     "execution_count": 7,
     "metadata": {},
     "output_type": "execute_result"
    }
   ],
   "source": [
    "image_impulse_gaussian_processed = cv2.GaussianBlur(image_impulse,(3,3),1)\n",
    "\n",
    "cv2.imshow('Gaussian processed - impulse image',image_impulse_gaussian_processed)\n",
    "cv2.waitKey()"
   ]
  },
  {
   "cell_type": "code",
   "execution_count": 8,
   "metadata": {},
   "outputs": [
    {
     "data": {
      "text/plain": [
       "-1"
      ]
     },
     "execution_count": 8,
     "metadata": {},
     "output_type": "execute_result"
    }
   ],
   "source": [
    "image_impulse_gaussian_processed = cv2.GaussianBlur(image_impulse,(3,3),1)\n",
    "# Here we have just multiplied an image to obtain a better visualization\n",
    "# As the pixel  values will be too dark,\n",
    "\n",
    "image_impulse_gaussian_processed = image_impulse_gaussian_processed * 10\n",
    "\n",
    "cv2.imshow('Gaussian processed - impulse image',image_impulse_gaussian_processed)\n",
    "cv2.waitKey()"
   ]
  },
  {
   "cell_type": "code",
   "execution_count": 22,
   "metadata": {},
   "outputs": [
    {
     "data": {
      "text/plain": [
       "-1"
      ]
     },
     "execution_count": 22,
     "metadata": {},
     "output_type": "execute_result"
    }
   ],
   "source": [
    "# Here we will just add a random Gaussian noise to our original image\n",
    "\n",
    "noise_Gaussian = np.zeros((image.shape[0], image.shape[1]), dtype='uint8');\n",
    "\n",
    "# Here a value of 64 is specified for a noise mean\n",
    "# and 32 is specified for the standard deviation\n",
    "\n",
    "cv2.randn(noise_Gaussian, 64, 32)\n",
    "\n",
    "#noisy_image = image + noise_Gaussian\n",
    "noisy_image = cv2.add(image, noise_Gaussian) \n",
    "cv2.imshow(\"Gaussian noise added - severe\", noisy_image)\n",
    "cv2.waitKey()"
   ]
  },
  {
   "cell_type": "code",
   "execution_count": 23,
   "metadata": {},
   "outputs": [
    {
     "data": {
      "text/plain": [
       "-1"
      ]
     },
     "execution_count": 23,
     "metadata": {},
     "output_type": "execute_result"
    }
   ],
   "source": [
    "# Adding a very mild noise\n",
    "cv2.randn(noise_Gaussian, 64, 8)\n",
    "#noisy_image1 = image + noise_Gaussian\n",
    "noisy_image1 = cv2.add(image, noise_Gaussian) \n",
    "cv2.imshow(\"Gaussian noise added - mild\", noisy_image1)\n",
    "cv2.waitKey()"
   ]
  },
  {
   "cell_type": "code",
   "execution_count": 28,
   "metadata": {},
   "outputs": [
    {
     "data": {
      "text/plain": [
       "-1"
      ]
     },
     "execution_count": 28,
     "metadata": {},
     "output_type": "execute_result"
    }
   ],
   "source": [
    "# Let's now apply a Gaussian filter to this.\n",
    "# This may be confusing for beginners.\n",
    "# We have one Gaussian distribution to create a noise\n",
    "# and other Gaussian function to create a filter, sometimes also called a kernel.\n",
    "# They should be treated completely independently,\n",
    "# and a very nice illustration can be found\n",
    "# on the following link.\n",
    "# https://www.youtube.com/watch?time_continue=2&v=XqYfeBNoqbs\n",
    "\n",
    "filtered_image = cv2.GaussianBlur(noisy_image, (3,3), 3)\n",
    "cv2.imshow(\"Gaussian noise severe - filtered\", filtered_image)\n",
    "cv2.waitKey()"
   ]
  },
  {
   "cell_type": "code",
   "execution_count": 29,
   "metadata": {},
   "outputs": [
    {
     "data": {
      "text/plain": [
       "-1"
      ]
     },
     "execution_count": 29,
     "metadata": {},
     "output_type": "execute_result"
    }
   ],
   "source": [
    "filtered_image = cv2.GaussianBlur(noisy_image1, (7,7), 3)\n",
    "cv2.imshow(\"Gaussian noise mild - filtered\", filtered_image)\n",
    "cv2.waitKey()"
   ]
  }
 ],
 "metadata": {
  "kernelspec": {
   "display_name": "Python 3",
   "language": "python",
   "name": "python3"
  },
  "language_info": {
   "codemirror_mode": {
    "name": "ipython",
    "version": 3
   },
   "file_extension": ".py",
   "mimetype": "text/x-python",
   "name": "python",
   "nbconvert_exporter": "python",
   "pygments_lexer": "ipython3",
   "version": "3.6.7"
  }
 },
 "nbformat": 4,
 "nbformat_minor": 2
}
